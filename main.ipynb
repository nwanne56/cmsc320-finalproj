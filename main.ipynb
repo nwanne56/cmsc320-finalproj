{
 "cells": [
  {
   "cell_type": "code",
   "execution_count": 37,
   "source": [
    "import pandas as pd \r\n",
    "import numpy as np \r\n",
    "import requests\r\n",
    "from bs4 import BeautifulSoup\r\n",
    "from lyricsgenius import Genius\r\n",
    "import re\r\n",
    "\r\n",
    "punct = '''!()-[]{};:\"\\,<>./?@#$%^&*_~'''"
   ],
   "outputs": [
    {
     "output_type": "error",
     "ename": "NameError",
     "evalue": "name 'lyricsgenius' is not defined",
     "traceback": [
      "\u001b[1;31m---------------------------------------------------------------------------\u001b[0m",
      "\u001b[1;31mNameError\u001b[0m                                 Traceback (most recent call last)",
      "Input \u001b[1;32mIn [37]\u001b[0m, in \u001b[0;36m<module>\u001b[1;34m\u001b[0m\n\u001b[0;32m      8\u001b[0m TOKEN \u001b[38;5;241m=\u001b[39m \u001b[38;5;124m\"\u001b[39m\u001b[38;5;124miiAYWhR9BclssG5wBuZ9KTKMLMfRYlnXDwfT1wjrLkFZL2StjD14yZT2_Byq6Ce7\u001b[39m\u001b[38;5;124m\"\u001b[39m\n\u001b[0;32m      9\u001b[0m punct \u001b[38;5;241m=\u001b[39m \u001b[38;5;124m'''\u001b[39m\u001b[38;5;124m!()-[]\u001b[39m\u001b[38;5;132;01m{}\u001b[39;00m\u001b[38;5;124m;:\u001b[39m\u001b[38;5;124m\"\u001b[39m\u001b[38;5;124m\\\u001b[39m\u001b[38;5;124m,<>./?@#$\u001b[39m\u001b[38;5;124m%\u001b[39m\u001b[38;5;124m^&*_~\u001b[39m\u001b[38;5;124m'''\u001b[39m\n\u001b[1;32m---> 11\u001b[0m \u001b[38;5;28mprint\u001b[39m(\u001b[43mlyricsgenius\u001b[49m\u001b[38;5;241m.\u001b[39m__version__)\n",
      "\u001b[1;31mNameError\u001b[0m: name 'lyricsgenius' is not defined"
     ]
    }
   ],
   "metadata": {}
  },
  {
   "cell_type": "code",
   "execution_count": null,
   "source": [
    "bb_data = pd.read_csv(\"charts.csv\")\r\n",
    "bb_data['date'] = pd.to_datetime(bb_data.date, format='%Y-%m-%d')\r\n",
    "# bb_data\r\n",
    "\r\n",
    "## Get DF of individual year data\r\n",
    "year = '2021'\r\n",
    "s2021 = year+'-01-01'\r\n",
    "e2021 = year+'-12-31'\r\n",
    "mask = (bb_data['date'] > s2021) & (bb_data['date'] <= e2021)\r\n",
    "\r\n",
    "# data_2021 = bb_data.loc[mask]\r\n",
    "# data_2021\r\n",
    "\r\n",
    "## Get dataframe grouped on year\r\n",
    "grouped_data = bb_data.groupby(bb_data['date'].dt.year)\r\n",
    "# for key, item in grouped_data:\r\n",
    "    # print(grouped_data.get_group(key), \"\\n\\n\")"
   ],
   "outputs": [],
   "metadata": {}
  },
  {
   "cell_type": "code",
   "execution_count": null,
   "source": [
    "genius = Genius(TOKEN)\r\n",
    "\r\n",
    "## Get a single song's lyrics\r\n",
    "song = genius.search_song(\"Hello\", \"Adele\")\r\n",
    "lyrics = song.lyrics\r\n",
    "\r\n",
    "lyrics = re.sub(r'\\[.*?\\]', '', lyrics)\r\n",
    "lyrics = lyrics.replace('\\n', ' ')\r\n",
    "\r\n",
    "for sym in lyrics:\r\n",
    "  if sym in punct:\r\n",
    "    lyrics = lyrics.replace(sym, \"\")\r\n",
    "lyrics"
   ],
   "outputs": [
    {
     "output_type": "stream",
     "name": "stdout",
     "text": [
      "Searching for \"Hello\" by Adele...\n",
      "Done.\n"
     ]
    },
    {
     "output_type": "execute_result",
     "data": {
      "text/plain": [
       "\"Hello Lyrics Hello it's me I was wondering if after all these years you'd like to meet To go over everything They say that time's supposed to heal ya but I ain't done much healing Hello can you hear me I'm in California dreaming about who we used to be When we were younger and free I've forgotten how it felt before the world fell at our feet   There's such a difference between us And a million miles   Hello from the other side I must've called a thousand times To tell you I'm sorry for everything that I've done But when I call you never seem to be home Hello from the outside At least I can say that I've tried To tell you I'm sorry for breaking your heart But it don't matter it clearly doesn't tear you apart anymore  Hello how are you It's so typical of me to talk about myself I'm sorry I hope that you're well Did you ever make it out of that town where nothing ever happened   It's no secret that the both of us Are running out of time   So hello from the other side Other side I must've called a thousand times Thousand times To tell you I'm sorry for everything that I've done But when I call you never seem to be home Hello from the outside Outside At least I can say that I've tried I've tried To tell you I'm sorry for breaking your heart But it don't matter it clearly doesn't tear you apart anymore   Highs highs highs highs lows lows lows lows Ooh anymore Highs highs highs highs lows lows lows lows Ooh anymore Highs highs highs highs lows lows lows lows Ooh anymore Highs highs highs highs lows lows lows lows Anymore Related SongsSend My Love To Your New LoverAdeleEasy On MeAdeleAs It WasHarry Styles Hello from the other side Other side I must've called a thousand times Thousand times To tell you I'm sorry for everything that I've done But when I call you never seem to be home Hello from the outside Outside At least I can say that I've tried I've tried To tell you I'm sorry for breaking your heart But it don't matter it clearly doesn't tear you apart anymore  256Embed\""
      ]
     },
     "metadata": {},
     "execution_count": 56
    }
   ],
   "metadata": {}
  },
  {
   "cell_type": "code",
   "execution_count": null,
   "source": [
    "## Get all the songs' lyrics\r\n",
    "for key in grouped_data.groups.keys():\r\n",
    "    kdf = grouped_data.get(key)\r\n",
    "    for row in kdf.iterrows():\r\n",
    "        song = genius.search_song(row['song'], row['artist'])\r\n",
    "        lyrics = song.lyrics\r\n",
    "\r\n",
    "        lyrics = re.sub(r'\\[.*?\\]', '', lyrics)\r\n",
    "        lyrics = lyrics.replace('\\n', ' ')\r\n",
    "\r\n",
    "        for sym in lyrics:\r\n",
    "            if sym in punct:\r\n",
    "                lyrics = lyrics.replace(sym, \"\")\r\n",
    "            lyrics"
   ],
   "outputs": [],
   "metadata": {}
  }
 ],
 "metadata": {
  "interpreter": {
   "hash": "f00216f29858463a43f6d2f3c6241b9e9e487227aab075ae4a7f249f28148a7b"
  },
  "kernelspec": {
   "name": "python3",
   "display_name": "Python 3.10.0 64-bit"
  },
  "language_info": {
   "codemirror_mode": {
    "name": "ipython",
    "version": 3
   },
   "file_extension": ".py",
   "mimetype": "text/x-python",
   "name": "python",
   "nbconvert_exporter": "python",
   "pygments_lexer": "ipython3",
   "version": "3.10.0"
  },
  "orig_nbformat": 4
 },
 "nbformat": 4,
 "nbformat_minor": 2
}